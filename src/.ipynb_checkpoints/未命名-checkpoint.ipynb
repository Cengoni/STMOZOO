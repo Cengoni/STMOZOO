{
 "cells": [
  {
   "cell_type": "code",
   "execution_count": 25,
   "metadata": {},
   "outputs": [
    {
     "name": "stderr",
     "output_type": "stream",
     "text": [
      "\u001b[32m\u001b[1m  Resolving\u001b[22m\u001b[39m package versions...\n",
      "\u001b[32m\u001b[1m  Installed\u001b[22m\u001b[39m Compat ─ v3.25.0\n",
      "\u001b[32m\u001b[1mUpdating\u001b[22m\u001b[39m `~/OneDrive/2yr/STMO/STMOZOO/Project.toml`\n",
      " \u001b[90m [864edb3b] \u001b[39m\u001b[92m+ DataStructures v0.18.8\u001b[39m\n",
      "\u001b[32m\u001b[1mUpdating\u001b[22m\u001b[39m `~/OneDrive/2yr/STMO/STMOZOO/Manifest.toml`\n",
      " \u001b[90m [34da2185] \u001b[39m\u001b[92m+ Compat v3.25.0\u001b[39m\n",
      " \u001b[90m [864edb3b] \u001b[39m\u001b[92m+ DataStructures v0.18.8\u001b[39m\n",
      " \u001b[90m [bac558e1] \u001b[39m\u001b[92m+ OrderedCollections v1.3.2\u001b[39m\n",
      " \u001b[90m [8bb1440f] \u001b[39m\u001b[92m+ DelimitedFiles\u001b[39m\n",
      " \u001b[90m [1a1011a3] \u001b[39m\u001b[92m+ SharedArrays\u001b[39m\n",
      " \u001b[90m [2f01184e] \u001b[39m\u001b[92m+ SparseArrays\u001b[39m\n",
      " \u001b[90m [10745b16] \u001b[39m\u001b[92m+ Statistics\u001b[39m\n"
     ]
    }
   ],
   "source": [
    "import Pkg; Pkg.add(\"DataStructures\")"
   ]
  },
  {
   "cell_type": "code",
   "execution_count": 20,
   "metadata": {},
   "outputs": [
    {
     "data": {
      "text/plain": [
       "create_adj_list (generic function with 1 method)"
      ]
     },
     "execution_count": 20,
     "metadata": {},
     "output_type": "execute_result"
    }
   ],
   "source": [
    "using DataStructures;\n",
    "function create_adj_list(edges)\n",
    "    adj_list = Dict{Int, Array{Int}}(() -> Vector{Int}())\n",
    "        for (x, y) in edges\n",
    "        push!(adj_list[x], y)\n",
    "        push!(adj_list[y], x)\n",
    "        end\n",
    "return adj_list    \n",
    "end"
   ]
  },
  {
   "cell_type": "code",
   "execution_count": 21,
   "metadata": {},
   "outputs": [
    {
     "ename": "LoadError",
     "evalue": "MethodError: no method matching iterate(::var\"#15#16\")\nClosest candidates are:\n  iterate(!Matched::Base.MethodList, !Matched::Any...) at reflection.jl:871\n  iterate(!Matched::Pkg.Resolve.NodePerm, !Matched::Any...) at /Users/julia/buildbot/worker/package_macos64/build/usr/share/julia/stdlib/v1.5/Pkg/src/Resolve/maxsum.jl:228\n  iterate(!Matched::CompositeException, !Matched::Any...) at task.jl:44\n  ...",
     "output_type": "error",
     "traceback": [
      "MethodError: no method matching iterate(::var\"#15#16\")\nClosest candidates are:\n  iterate(!Matched::Base.MethodList, !Matched::Any...) at reflection.jl:871\n  iterate(!Matched::Pkg.Resolve.NodePerm, !Matched::Any...) at /Users/julia/buildbot/worker/package_macos64/build/usr/share/julia/stdlib/v1.5/Pkg/src/Resolve/maxsum.jl:228\n  iterate(!Matched::CompositeException, !Matched::Any...) at task.jl:44\n  ...",
      "",
      "Stacktrace:",
      " [1] Dict{Int64,Array{Int64,N} where N}(::Function) at ./dict.jl:102",
      " [2] create_adj_list(::Array{Array{Int64,1},1}) at ./In[20]:3",
      " [3] top-level scope at In[21]:1",
      " [4] include_string(::Function, ::Module, ::String, ::String) at ./loading.jl:1091"
     ]
    }
   ],
   "source": [
    "create_adj_list([[1, 5], [1, 2], [1, 4], [1, 3], [5, 2], [2, 3], [2, 4], [3, 4], [3, 6], [4, 6]])"
   ]
  },
  {
   "cell_type": "code",
   "execution_count": 18,
   "metadata": {},
   "outputs": [
    {
     "data": {
      "text/plain": [
       "has_eulerian_cycle (generic function with 1 method)"
      ]
     },
     "execution_count": 18,
     "metadata": {},
     "output_type": "execute_result"
    }
   ],
   "source": [
    "function has_eulerian_cycle(adj_list)\n",
    "    odd = 0\n",
    "    for node in adj_list\n",
    "        if len(adj_list[node]) % 2 != 0\n",
    "            odd += 1\n",
    "        end\n",
    "    end\n",
    "    if odd == (0 || 2)\n",
    "        return True\n",
    "    end\n",
    "    return False\n",
    "end "
   ]
  },
  {
   "cell_type": "code",
   "execution_count": 19,
   "metadata": {},
   "outputs": [
    {
     "ename": "LoadError",
     "evalue": "MethodError: Cannot `convert` an object of type Pair{Int64,Array{Int64,N} where N} to an object of type Int64\nClosest candidates are:\n  convert(::Type{T}, !Matched::T) where T<:Number at number.jl:6\n  convert(::Type{T}, !Matched::Number) where T<:Number at number.jl:7\n  convert(::Type{T}, !Matched::Ptr) where T<:Integer at pointer.jl:23\n  ...",
     "output_type": "error",
     "traceback": [
      "MethodError: Cannot `convert` an object of type Pair{Int64,Array{Int64,N} where N} to an object of type Int64\nClosest candidates are:\n  convert(::Type{T}, !Matched::T) where T<:Number at number.jl:6\n  convert(::Type{T}, !Matched::Number) where T<:Number at number.jl:7\n  convert(::Type{T}, !Matched::Ptr) where T<:Integer at pointer.jl:23\n  ...",
      "",
      "Stacktrace:",
      " [1] get!(::Function, ::Dict{Int64,Array{Int64,N} where N}, ::Pair{Int64,Array{Int64,N} where N}) at ./dict.jl:437",
      " [2] getindex(::DataStructures.DefaultDictBase{Int64,Array{Int64,N} where N,var\"#13#14\",Dict{Int64,Array{Int64,N} where N}}, ::Pair{Int64,Array{Int64,N} where N}) at /Users/mac/.julia/packages/DataStructures/5hvIb/src/default_dict.jl:71",
      " [3] getindex(::DefaultDict{Int64,Array{Int64,N} where N,var\"#13#14\"}, ::Pair{Int64,Array{Int64,N} where N}) at /Users/mac/.julia/packages/DataStructures/5hvIb/src/delegate.jl:21",
      " [4] has_eulerian_cycle(::DefaultDict{Int64,Array{Int64,N} where N,var\"#13#14\"}) at ./In[18]:4",
      " [5] top-level scope at In[19]:1",
      " [6] include_string(::Function, ::Module, ::String, ::String) at ./loading.jl:1091"
     ]
    }
   ],
   "source": [
    "has_eulerian_cycle(create_adj_list([[1, 5], [1, 2], [1, 4], [1, 3], [5, 2], [2, 3], [2, 4], [3, 4], [3, 6], [4, 6]]))"
   ]
  },
  {
   "cell_type": "code",
   "execution_count": null,
   "metadata": {},
   "outputs": [],
   "source": []
  }
 ],
 "metadata": {
  "kernelspec": {
   "display_name": "Julia 1.5.1",
   "language": "julia",
   "name": "julia-1.5"
  },
  "language_info": {
   "file_extension": ".jl",
   "mimetype": "application/julia",
   "name": "julia",
   "version": "1.5.1"
  }
 },
 "nbformat": 4,
 "nbformat_minor": 4
}
